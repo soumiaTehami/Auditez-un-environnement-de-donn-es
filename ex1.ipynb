{
 "cells": [
  {
   "cell_type": "code",
   "execution_count": 1,
   "id": "88fc7ae7",
   "metadata": {},
   "outputs": [],
   "source": [
    "import pandas as pd"
   ]
  },
  {
   "cell_type": "code",
   "execution_count": 29,
   "id": "33f73634",
   "metadata": {},
   "outputs": [
    {
     "name": "stdout",
     "output_type": "stream",
     "text": [
      "c:\\Users\\33664\\OneDrive\\Bureau\\Auditez un environnement de données\n",
      "['Copie+de+Extraction+cube+OLAP+-+14+aout+2024 (1).xlsx', 'ex1.ipynb', 'je veux un seul pour tout les tables.xlsx', 'Template+de+support+de+présentation+.pptx', 'Untitled.pdf']\n"
     ]
    }
   ],
   "source": [
    "import os\n",
    "\n",
    "print(os.getcwd())      # dossier de travail actuel\n",
    "print(os.listdir())     # fichiers que Python voit dans ce dossier\n"
   ]
  },
  {
   "cell_type": "markdown",
   "id": "b4c3db0e",
   "metadata": {},
   "source": [
    "### 📂 Chargement des données de ventes immobilières"
   ]
  },
  {
   "cell_type": "code",
   "execution_count": 2,
   "id": "2b903d80",
   "metadata": {},
   "outputs": [
    {
     "name": "stdout",
     "output_type": "stream",
     "text": [
      "                                ID_BDD        CUSTOMER_ID  \\\n",
      "0  HZDG8U15NNY7SI6HDK8NMFDEK7MOVUX31VY  CUST-G42Z6WE8QLWJ   \n",
      "1  1H51BRR800TK9DCIH8M9QCRH3LEAR0JWALJ  CUST-CUA37GP8GABQ   \n",
      "\n",
      "                         id_employe            EAN  Date achat ID ticket  \n",
      "0  b413ca065a762e8cf2e86cfea8b9c174  6473630445822       45518    t_2693  \n",
      "1  a7ada0770091e838e3dcd45265282820  1857802002765       45518    t_4408  \n"
     ]
    }
   ],
   "source": [
    "import pandas as pd\n",
    "\n",
    "fichier = pd.read_excel(\"Copie+de+Extraction+cube+OLAP+-+14+aout+2024 (1).xlsx\")\n",
    "\n",
    "# Afficher seulement 2 lignes\n",
    "print(fichier.head(2))\n"
   ]
  },
  {
   "cell_type": "code",
   "execution_count": 8,
   "id": "e9cc4f38",
   "metadata": {},
   "outputs": [
    {
     "name": "stdout",
     "output_type": "stream",
     "text": [
      "📑 Feuilles disponibles : ['Vente Détail', 'Produits', 'Clients', 'Calendrier', 'Employé']\n",
      "⚠️ Feuille 'Vente_Detail' introuvable, sautée.\n",
      "✅ Base SQLite créée avec succès : ventes.sqlite\n"
     ]
    }
   ],
   "source": [
    "import pandas as pd\n",
    "import sqlite3\n",
    "\n",
    "# 📂 Charger le fichier Excel\n",
    "fichier = \"Copie+de+Extraction+cube+OLAP+-+14+aout+2024 (1).xlsx\"\n",
    "\n",
    "# Vérifier les feuilles disponibles\n",
    "xls = pd.ExcelFile(fichier)\n",
    "print(\"📑 Feuilles disponibles :\", xls.sheet_names)\n",
    "\n",
    "# ✅ Utilisation de get() pour éviter les erreurs si la feuille n'existe pas\n",
    "def lire_feuille(nom):\n",
    "    if nom in xls.sheet_names:\n",
    "        return pd.read_excel(fichier, sheet_name=nom)\n",
    "    else:\n",
    "        print(f\"⚠️ Feuille '{nom}' introuvable, sautée.\")\n",
    "        return pd.DataFrame()\n",
    "\n",
    "# Lire les feuilles\n",
    "clients_raw = lire_feuille(\"Clients\")\n",
    "produits_raw = lire_feuille(\"Produits\")\n",
    "employes_raw = lire_feuille(\"Employé\")\n",
    "calendrier_raw = lire_feuille(\"Calendrier\")\n",
    "ventes_raw = lire_feuille(\"Vente_Detail\")  # adapte selon le vrai nom affiché par print\n",
    "\n",
    "# 🗂 Table Clients\n",
    "if not clients_raw.empty:\n",
    "    clients = clients_raw.rename(columns={\n",
    "        \"CUSTOMER_ID\": \"CUSTOMER_ID\",\n",
    "        \"date_inscription\": \"date_inscription\"\n",
    "    })\n",
    "\n",
    "# 🗂 Table Produits\n",
    "if not produits_raw.empty:\n",
    "    produits = produits_raw.rename(columns={\n",
    "        \"EAN\": \"EAN\",\n",
    "        \"categorie\": \"categorie\",\n",
    "        \"rayon\": \"rayon\",\n",
    "        \"libelle_produit\": \"libelle_produit\",\n",
    "        \"prix\": \"prix\"\n",
    "    })\n",
    "\n",
    "# 🗂 Table Employes\n",
    "if not employes_raw.empty:\n",
    "    employes = employes_raw.rename(columns={\n",
    "        \"id_employe\": \"id_employe\",\n",
    "        \"employe\": \"employe\",\n",
    "        \"prenom\": \"prenom\",\n",
    "        \"nom\": \"nom\",\n",
    "        \"date_debut\": \"date_debut\",\n",
    "        \"hash_mdp\": \"hash_mdp\",\n",
    "        \"mail\": \"mail\"\n",
    "    })\n",
    "\n",
    "# 🗂 Table Calendrier\n",
    "if not calendrier_raw.empty:\n",
    "    calendrier = calendrier_raw.rename(columns={\n",
    "        \"date\": \"date\",\n",
    "        \"annee\": \"annee\",\n",
    "        \"mois\": \"mois\",\n",
    "        \"jour\": \"jour\",\n",
    "        \"mois_nom\": \"mois_nom\",\n",
    "        \"annee_mois\": \"annee_mois\",\n",
    "        \"jour_semaine\": \"jour_semaine\",\n",
    "        \"trimestre\": \"trimestre\"\n",
    "    })\n",
    "\n",
    "# 🗂 Table Vente_Detail\n",
    "if not ventes_raw.empty:\n",
    "    ventes = ventes_raw.rename(columns={\n",
    "        \"ID_BDD\": \"ID_BDD\",\n",
    "        \"CUSTOMER_ID\": \"CUSTOMER_ID\",\n",
    "        \"id_employe\": \"id_employe\",\n",
    "        \"EAN\": \"EAN\",\n",
    "        \"Date_achat\": \"Date_achat\",\n",
    "        \"ID_ticket\": \"ID_ticket\"\n",
    "    })\n",
    "\n",
    "# 💾 Connexion SQLite\n",
    "conn = sqlite3.connect(\"ventes.sqlite\")\n",
    "\n",
    "# 📥 Sauvegarde des tables (seulement si elles existent)\n",
    "if not clients_raw.empty:\n",
    "    clients.to_sql(\"Clients\", conn, if_exists=\"replace\", index=False)\n",
    "if not produits_raw.empty:\n",
    "    produits.to_sql(\"Produits\", conn, if_exists=\"replace\", index=False)\n",
    "if not employes_raw.empty:\n",
    "    employes.to_sql(\"Employes\", conn, if_exists=\"replace\", index=False)\n",
    "if not calendrier_raw.empty:\n",
    "    calendrier.to_sql(\"Calendrier\", conn, if_exists=\"replace\", index=False)\n",
    "if not ventes_raw.empty:\n",
    "    ventes.to_sql(\"Vente_Detail\", conn, if_exists=\"replace\", index=False)\n",
    "\n",
    "# 🔒 Fermeture\n",
    "conn.close()\n",
    "print(\"✅ Base SQLite créée avec succès : ventes.sqlite\")\n"
   ]
  },
  {
   "cell_type": "code",
   "execution_count": 1,
   "id": "216f088f",
   "metadata": {},
   "outputs": [
    {
     "name": "stdout",
     "output_type": "stream",
     "text": [
      "📑 Feuilles disponibles : ['Vente Détail', 'Produits', 'Clients', 'Calendrier', 'Employé']\n",
      "➡️ Import de la feuille : Vente Détail\n",
      "   ✅ Table 'Vente_Détail' créée (41377 lignes)\n",
      "➡️ Import de la feuille : Produits\n",
      "   ✅ Table 'Produits' créée (18040 lignes)\n",
      "➡️ Import de la feuille : Clients\n",
      "   ✅ Table 'Clients' créée (2297 lignes)\n",
      "➡️ Import de la feuille : Calendrier\n",
      "   ✅ Table 'Calendrier' créée (1999 lignes)\n",
      "➡️ Import de la feuille : Employé\n",
      "   ✅ Table 'Employé' créée (56 lignes)\n",
      "🎉 Import terminé ! Toutes les feuilles Excel sont dans ventes.sqlite\n"
     ]
    }
   ],
   "source": [
    "import pandas as pd\n",
    "import sqlite3\n",
    "import re\n",
    "\n",
    "# 📂 Charger le fichier Excel\n",
    "fichier = \"Copie+de+Extraction+cube+OLAP+-+14+aout+2024 (1).xlsx\"\n",
    "xls = pd.ExcelFile(fichier)\n",
    "print(\"📑 Feuilles disponibles :\", xls.sheet_names)\n",
    "\n",
    "# 💾 Connexion à SQLite\n",
    "conn = sqlite3.connect(\"ventes.sqlite\")\n",
    "\n",
    "# 🔄 Boucle sur chaque feuille\n",
    "for feuille in xls.sheet_names:\n",
    "    print(f\"➡️ Import de la feuille : {feuille}\")\n",
    "    \n",
    "    # Charger la feuille en DataFrame\n",
    "    df = pd.read_excel(fichier, sheet_name=feuille)\n",
    "    \n",
    "    if df.empty:\n",
    "        print(f\"⚠️ Feuille '{feuille}' vide, sautée.\")\n",
    "        continue\n",
    "    \n",
    "    # Si la feuille contient une colonne \"date\" en format Excel, convertir en datetime\n",
    "    if 'date' in df.columns:\n",
    "        df['date'] = pd.to_timedelta(df['date'], unit='D') + pd.Timestamp('1899-12-30')\n",
    "    \n",
    "    # Nettoyer le nom de la table pour SQLite (remplacer les espaces par _)\n",
    "    table_name = feuille.replace(\" \", \"_\")\n",
    "    \n",
    "    # Sauvegarder dans SQLite\n",
    "    df.to_sql(table_name, conn, if_exists=\"replace\", index=False)\n",
    "    print(f\"   ✅ Table '{table_name}' créée ({len(df)} lignes)\")\n",
    "\n",
    "# 🔒 Fermeture\n",
    "conn.close()\n",
    "print(\"🎉 Import terminé ! Toutes les feuilles Excel sont dans ventes.sqlite\")\n"
   ]
  },
  {
   "cell_type": "code",
   "execution_count": 22,
   "id": "61dc3356",
   "metadata": {},
   "outputs": [
    {
     "name": "stdout",
     "output_type": "stream",
     "text": [
      "✅ Conversion de la colonne 'Date achat' terminée\n"
     ]
    }
   ],
   "source": [
    "import pandas as pd\n",
    "import sqlite3\n",
    "\n",
    "conn = sqlite3.connect(\"ventes.sqlite\")\n",
    "\n",
    "# Charger la table Vente_Détail\n",
    "ventes = pd.read_sql('SELECT * FROM \"Vente_Détail\"', conn)\n",
    "\n",
    "# Convertir la colonne \"Date achat\" depuis Excel (numérique) en datetime\n",
    "ventes['Date achat'] = pd.to_timedelta(ventes['Date achat'], unit='D') + pd.Timestamp('1899-12-30')\n",
    "\n",
    "# Réinjecter la table dans SQLite\n",
    "ventes.to_sql(\"Vente_Détail\", conn, if_exists=\"replace\", index=False)\n",
    "\n",
    "conn.close()\n",
    "print(\"✅ Conversion de la colonne 'Date achat' terminée\")\n"
   ]
  },
  {
   "cell_type": "code",
   "execution_count": 10,
   "id": "2640de59",
   "metadata": {},
   "outputs": [
    {
     "data": {
      "text/plain": [
       "['Clients', 'Produits', 'Employé', 'Calendrier', 'Vente Detail']"
      ]
     },
     "execution_count": 10,
     "metadata": {},
     "output_type": "execute_result"
    }
   ],
   "source": [
    "['Clients', 'Produits', 'Employé', 'Calendrier', 'Vente Detail']\n"
   ]
  },
  {
   "cell_type": "code",
   "execution_count": 28,
   "id": "f942cad0",
   "metadata": {},
   "outputs": [
    {
     "name": "stdout",
     "output_type": "stream",
     "text": [
      "✅ Dates formatées et tables réinjectées correctement\n"
     ]
    }
   ],
   "source": [
    "import pandas as pd\n",
    "import sqlite3\n",
    "\n",
    "# Connexion SQLite\n",
    "conn = sqlite3.connect(\"ventes.sqlite\")\n",
    "\n",
    "# -------------------------------\n",
    "# Vente_Détail\n",
    "# -------------------------------\n",
    "ventes = pd.read_sql('SELECT * FROM \"Vente_Détail\"', conn)\n",
    "\n",
    "if pd.api.types.is_numeric_dtype(ventes['Date achat']):\n",
    "    ventes['Date achat'] = pd.to_timedelta(ventes['Date achat'], unit='D') + pd.Timestamp('1899-12-30')\n",
    "\n",
    "ventes['Date achat'] = pd.to_datetime(ventes['Date achat']).dt.strftime('%Y-%m-%d')\n",
    "ventes.to_sql(\"Vente_Détail\", conn, if_exists=\"replace\", index=False)\n",
    "\n",
    "# -------------------------------\n",
    "# Calendrier\n",
    "# -------------------------------\n",
    "calendrier = pd.read_sql('SELECT * FROM Calendrier', conn)\n",
    "\n",
    "if pd.api.types.is_numeric_dtype(calendrier['date']):\n",
    "    calendrier['date'] = pd.to_timedelta(calendrier['date'], unit='D') + pd.Timestamp('1899-12-30')\n",
    "\n",
    "calendrier['date'] = pd.to_datetime(calendrier['date']).dt.strftime('%Y-%m-%d')\n",
    "calendrier.to_sql(\"Calendrier\", conn, if_exists=\"replace\", index=False)\n",
    "\n",
    "conn.close()\n",
    "print(\"✅ Dates formatées et tables réinjectées correctement\")\n"
   ]
  },
  {
   "cell_type": "code",
   "execution_count": 1,
   "id": "ebba8ee2",
   "metadata": {},
   "outputs": [
    {
     "name": "stdout",
     "output_type": "stream",
     "text": [
      "[('Employes',), ('Produits',), ('Clients',), ('Employé',), ('Vente_Détail',), ('Calendrier',)]\n"
     ]
    }
   ],
   "source": [
    "import sqlite3\n",
    "\n",
    "conn = sqlite3.connect(\"ventes.sqlite\")\n",
    "cursor = conn.cursor()\n",
    "\n",
    "cursor.execute(\"SELECT name FROM sqlite_master WHERE type='table';\")\n",
    "print(cursor.fetchall())\n"
   ]
  },
  {
   "cell_type": "code",
   "execution_count": 4,
   "id": "ead6d9d8",
   "metadata": {},
   "outputs": [
    {
     "name": "stdout",
     "output_type": "stream",
     "text": [
      "Aperçu des données du fichier logs.xlsx :\n",
      "                            id_user   date  action table_insert  \\\n",
      "0  0859b70a9ca905a870bfccc5f8440ba1  45518  INSERT       Client   \n",
      "1  c4f0909120cfde7086a3c1a56e96a015  45518  INSERT       Client   \n",
      "2  dd595f0f0b3400df2908f0be7723dad4  45518  INSERT       Client   \n",
      "3  e44eabec860498a79e675200bc8fa455  45518  INSERT       Client   \n",
      "4  37c6a856b2e14217855d808fbc8e56a7  45518  INSERT       Client   \n",
      "\n",
      "            id_ligne            champs               detail  Unnamed: 7  \n",
      "0  CUST-0P9K9MICI4V3  date_inscription  2024-08-14 00:00:00         NaN  \n",
      "1  CUST-SZ9IS3Q1LBEP  date_inscription  2024-08-14 00:00:00         NaN  \n",
      "2  CUST-L99QEXFV9WTS  date_inscription  2024-08-14 00:00:00         NaN  \n",
      "3  CUST-9SBDRZ728025  date_inscription  2024-08-14 00:00:00         NaN  \n",
      "4  CUST-3F47X2KHYXQM  date_inscription  2024-08-14 00:00:00         NaN  \n"
     ]
    }
   ],
   "source": [
    "import pandas as pd\n",
    "\n",
    "try:\n",
    "    # Charge le fichier Excel dans un DataFrame\n",
    "    logs_df = pd.read_excel('logs.xlsx')\n",
    "\n",
    "    # Affiche les premières lignes pour vérifier que le chargement a fonctionné\n",
    "    print(\"Aperçu des données du fichier logs.xlsx :\")\n",
    "    print(logs_df.head(7))\n",
    "\n",
    "except FileNotFoundError:\n",
    "    print(\"Erreur : Le fichier 'logs.xlsx' n'a pas été trouvé. Assurez-vous que le fichier est dans le même dossier que ce script.\")\n",
    "except Exception as e:\n",
    "    print(f\"Une erreur est survenue lors du chargement du fichier : {e}\")"
   ]
  },
  {
   "cell_type": "code",
   "execution_count": 5,
   "id": "37b05bcb",
   "metadata": {},
   "outputs": [
    {
     "name": "stdout",
     "output_type": "stream",
     "text": [
      "✅ Intégration des logs réussie !\n",
      "\n",
      "🔎 Aperçu des 5 premières lignes de la table 'Logs' après l'intégration :\n",
      "                            id_user                 date  action table_insert  \\\n",
      "0  0859b70a9ca905a870bfccc5f8440ba1  2024-08-14 00:00:00  INSERT       Client   \n",
      "1  c4f0909120cfde7086a3c1a56e96a015  2024-08-14 00:00:00  INSERT       Client   \n",
      "2  dd595f0f0b3400df2908f0be7723dad4  2024-08-14 00:00:00  INSERT       Client   \n",
      "3  e44eabec860498a79e675200bc8fa455  2024-08-14 00:00:00  INSERT       Client   \n",
      "4  37c6a856b2e14217855d808fbc8e56a7  2024-08-14 00:00:00  INSERT       Client   \n",
      "\n",
      "            id_ligne            champs               detail  \n",
      "0  CUST-0P9K9MICI4V3  date_inscription  2024-08-14 00:00:00  \n",
      "1  CUST-SZ9IS3Q1LBEP  date_inscription  2024-08-14 00:00:00  \n",
      "2  CUST-L99QEXFV9WTS  date_inscription  2024-08-14 00:00:00  \n",
      "3  CUST-9SBDRZ728025  date_inscription  2024-08-14 00:00:00  \n",
      "4  CUST-3F47X2KHYXQM  date_inscription  2024-08-14 00:00:00  \n"
     ]
    }
   ],
   "source": [
    "import pandas as pd\n",
    "import sqlite3\n",
    "\n",
    "# Nom du fichier de logs\n",
    "fichier_logs = \"logs.xlsx\"\n",
    "\n",
    "try:\n",
    "    # Charger les logs dans un DataFrame\n",
    "    logs_df = pd.read_excel(fichier_logs)\n",
    "\n",
    "    # Convertir la colonne 'date' du format numérique Excel en format de date standard\n",
    "    logs_df['date'] = pd.to_datetime(logs_df['date'], unit='D', origin='1899-12-30')\n",
    "\n",
    "    # Supprimer la colonne inutile si elle existe\n",
    "    if 'Unnamed: 7' in logs_df.columns:\n",
    "        logs_df = logs_df.drop('Unnamed: 7', axis=1)\n",
    "\n",
    "    # Connexion à la base de données SQLite\n",
    "    conn = sqlite3.connect(\"ventes.sqlite\")\n",
    "\n",
    "    # Insérer le DataFrame propre dans une nouvelle table 'Logs'\n",
    "    logs_df.to_sql(\"Logs\", conn, if_exists=\"replace\", index=False)\n",
    "\n",
    "    print(\"✅ Intégration des logs réussie !\")\n",
    "    print(\"\\n🔎 Aperçu des 5 premières lignes de la table 'Logs' après l'intégration :\")\n",
    "    verification_df = pd.read_sql_query(\"SELECT * FROM Logs LIMIT 5\", conn)\n",
    "    print(verification_df)\n",
    "\n",
    "except FileNotFoundError:\n",
    "    print(\"⚠️ Erreur : Le fichier 'logs.xlsx' est introuvable. Assurez-vous qu'il se trouve dans le même répertoire que ce script.\")\n",
    "except Exception as e:\n",
    "    print(f\"❌ Une erreur s'est produite lors de l'exécution : {e}\")\n",
    "finally:\n",
    "    if 'conn' in locals() and conn:\n",
    "        conn.close()"
   ]
  }
 ],
 "metadata": {
  "kernelspec": {
   "display_name": "Python 3",
   "language": "python",
   "name": "python3"
  },
  "language_info": {
   "codemirror_mode": {
    "name": "ipython",
    "version": 3
   },
   "file_extension": ".py",
   "mimetype": "text/x-python",
   "name": "python",
   "nbconvert_exporter": "python",
   "pygments_lexer": "ipython3",
   "version": "3.13.5"
  }
 },
 "nbformat": 4,
 "nbformat_minor": 5
}
